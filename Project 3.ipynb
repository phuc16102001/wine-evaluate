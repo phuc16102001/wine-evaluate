{
 "cells": [
  {
   "cell_type": "markdown",
   "id": "72cc74ba",
   "metadata": {},
   "source": [
    "Read me!\n",
    "==================\n",
    "`\n",
    "This is the project 3 of the lab from the applied mathematics and statistics course.\n",
    "The requirement is to using the linear regression to classify the wine problem.\n",
    "`\n",
    "- The source code is owned by Do Vuong Phuc (Phone number: 0707953475)\n",
    "- Please do not copy the code!\n",
    "- Created Date: 01/08/2021\n",
    "\n",
    "\n",
    "In this project, we have 3 problems: A, B, C \n",
    "- A) Create a linear regression model that predict ${quality}=\\sum_{i=1}^{11}{\\theta_i.x_i}$ \n",
    "- B) Create 11 linear regression models and choose the best one (using Cross Validation) with the model $i^{th}$ is ${quality}=\\theta.x_i$\n",
    "- C) Create own model which is better\n"
   ]
  },
  {
   "cell_type": "code",
   "execution_count": 1,
   "id": "422583c8",
   "metadata": {},
   "outputs": [],
   "source": [
    "# Library and function\n",
    "import pandas as pd\n",
    "import numpy as np\n",
    "\n",
    "# Finding the set of theta value for the optimize squared problem ||Ax-b||^2 min\n",
    "def findTheta(A,b):\n",
    "    A_t = np.transpose(A)\n",
    "    P1=np.linalg.inv(A_t@A)\n",
    "    P2=A_t@b\n",
    "    return P1@P2\n",
    "\n",
    "# Calculate the value of ||Ax-b||\n",
    "def findNorm(A,b,x):\n",
    "    return (np.linalg.norm(A@x-b))\n",
    "\n",
    "# Train the model by the train set and test with the test set\n",
    "def trainAndTest(train_set,test_set,y_name):\n",
    "    train_y = train_set[y_name].to_frame().values\n",
    "    test_y = test_set[y_name].to_frame().values\n",
    "    \n",
    "    train_field = train_set.copy()\n",
    "    test_field = test_set.copy()\n",
    "    del train_field[y_name]\n",
    "    del test_field[y_name]\n",
    "    \n",
    "    theta = findTheta(train_field,train_y).values\n",
    "    norm = findNorm(test_field,test_y,theta)\n",
    "    return theta, norm\n",
    "\n",
    "# Doing K-fold CV for the data with nFold size\n",
    "def crossValidation(df,y_name,nFold):\n",
    "    frame = df.copy()\n",
    "    fold = np.array_split(frame,nFold)\n",
    "    sNorm = 0\n",
    "    listNormTheta = []\n",
    "    \n",
    "    for i in range(nFold):\n",
    "        train_set = fold.copy()\n",
    "        del train_set[i]\n",
    "        test_set = fold[i]\n",
    "        train_set = pd.concat(train_set)\n",
    "        \n",
    "        theta, norm = trainAndTest(train_set,test_set,y_name)\n",
    "        listNormTheta.append((norm, theta))\n",
    "        sNorm += norm\n",
    "    selectedTheta = min(listNormTheta)[1]\n",
    "    avgNorm = sNorm/nFold\n",
    "    return selectedTheta, avgNorm\n",
    "\n",
    "# Create a new data frame which on contains the field in listCol and y_name\n",
    "def createNewFrame(df,listCol,y_name): \n",
    "    frame = df.copy()\n",
    "    for col in frame.columns:\n",
    "        if (col!=y_name and not(col in listCol)):\n",
    "            del frame[col]\n",
    "    return frame"
   ]
  },
  {
   "cell_type": "code",
   "execution_count": 2,
   "id": "f0c845e7",
   "metadata": {},
   "outputs": [],
   "source": [
    "# Read data\n",
    "df = pd.read_csv('wine.csv',sep=';')"
   ]
  },
  {
   "cell_type": "code",
   "execution_count": 3,
   "id": "94cc36ba",
   "metadata": {},
   "outputs": [
    {
     "name": "stdout",
     "output_type": "stream",
     "text": [
      "Theta:\n",
      " [[ 5.92516137e-03]\n",
      " [-1.10803754e+00]\n",
      " [-2.63046284e-01]\n",
      " [ 1.53222831e-02]\n",
      " [-1.73050274e+00]\n",
      " [ 3.80141908e-03]\n",
      " [-3.89899869e-03]\n",
      " [ 4.33858768e+00]\n",
      " [-4.58535475e-01]\n",
      " [ 7.29718662e-01]\n",
      " [ 3.08858648e-01]]\n",
      "Norm: 22.124345965349157\n"
     ]
    }
   ],
   "source": [
    "# Problem A: model y=sigma(theta_i.x_i)\n",
    "theta, norm = trainAndTest(df,df,'quality')\n",
    "print(\"Theta:\\n\",theta)\n",
    "print(\"Norm:\",norm)"
   ]
  },
  {
   "cell_type": "code",
   "execution_count": 4,
   "id": "5cb12257",
   "metadata": {},
   "outputs": [
    {
     "name": "stdout",
     "output_type": "stream",
     "text": [
      "= Best result =\n",
      "Norm:  7.918652557961548\n",
      "Theta: [[0.54298689]]\n",
      "Attribute: alcohol\n"
     ]
    }
   ],
   "source": [
    "# Problem B: models y_i=theta_i.x_i\n",
    "result = []\n",
    "for col in df.columns:        \n",
    "    if (col!='quality'):\n",
    "        frame = createNewFrame(df,[col],'quality')\n",
    "        selectedTheta, avgNorm = crossValidation(frame,'quality',10)\n",
    "        result.append((avgNorm,selectedTheta,col))\n",
    "        \n",
    "bestResult = min(result)\n",
    "print('= Best result =')\n",
    "print('Norm: ',bestResult[0])\n",
    "print('Theta:',bestResult[1])\n",
    "print('Attribute:',bestResult[2])"
   ]
  },
  {
   "cell_type": "code",
   "execution_count": 5,
   "id": "26f58842",
   "metadata": {},
   "outputs": [
    {
     "name": "stdout",
     "output_type": "stream",
     "text": [
      "= Best result =\n",
      "Norm:  7.09667876204013\n",
      "Theta:\n",
      "[[-1.05817351e+00]\n",
      " [-2.65570255e-01]\n",
      " [-1.68571405e+00]\n",
      " [-3.43210474e-03]\n",
      " [ 4.29851787e+00]\n",
      " [-4.60521429e-01]\n",
      " [ 7.04482782e-01]\n",
      " [ 3.24614128e-01]]\n",
      "Attribute\n",
      "['volatile acidity', 'citric acid', 'chlorides', 'total sulfur dioxide', 'density', 'pH', 'sulphates', 'alcohol']\n"
     ]
    }
   ],
   "source": [
    "# Problem C: define your own model\n",
    "\n",
    "def testAllCase(result=[],ls=[],k=0):\n",
    "    if (k==len(df.columns)-1):\n",
    "        frame = createNewFrame(df,ls,'quality')\n",
    "        selectedTheta, avgNorm = crossValidation(frame,'quality',10)\n",
    "        t = (avgNorm,selectedTheta,ls)\n",
    "        result.append(t)\n",
    "    else:\n",
    "        ls = ls.copy()\n",
    "        for i in range(2):\n",
    "            if (i==1):\n",
    "                ls.append(df.columns[k])\n",
    "            testAllCase(result,ls,k+1)\n",
    "\n",
    "listResult = []\n",
    "testAllCase(listResult)\n",
    "bestResult = min(listResult)\n",
    "print(\"= Best result =\")\n",
    "print(\"Norm: \",bestResult[0])\n",
    "print(\"Theta:\")\n",
    "print(bestResult[1])\n",
    "print(\"Attribute\")\n",
    "print(bestResult[2])"
   ]
  },
  {
   "cell_type": "code",
   "execution_count": 7,
   "id": "408c5c96",
   "metadata": {},
   "outputs": [
    {
     "name": "stdout",
     "output_type": "stream",
     "text": [
      "Theta:\n",
      " [[ 3.83862334e-03]\n",
      " [-1.05270482e+00]\n",
      " [-2.79617426e-01]\n",
      " [ 1.43406488e-02]\n",
      " [-1.65757834e+00]\n",
      " [ 2.83437290e-03]\n",
      " [-4.09579872e-03]\n",
      " [ 4.21256719e+00]\n",
      " [-4.44796104e-01]\n",
      " [ 7.02641261e-01]\n",
      " [ 3.19940378e-01]]\n",
      "Norm: 7.126524340809087\n"
     ]
    }
   ],
   "source": [
    "#Testing problem A with cross validation\n",
    "\n",
    "theta, norm = crossValidation(df,'quality',10)\n",
    "print(\"Theta:\\n\",theta)\n",
    "print(\"Norm:\",norm)"
   ]
  },
  {
   "cell_type": "code",
   "execution_count": null,
   "id": "c56d84c2",
   "metadata": {},
   "outputs": [],
   "source": []
  }
 ],
 "metadata": {
  "kernelspec": {
   "display_name": "Python 3",
   "language": "python",
   "name": "python3"
  },
  "language_info": {
   "codemirror_mode": {
    "name": "ipython",
    "version": 3
   },
   "file_extension": ".py",
   "mimetype": "text/x-python",
   "name": "python",
   "nbconvert_exporter": "python",
   "pygments_lexer": "ipython3",
   "version": "3.9.5"
  }
 },
 "nbformat": 4,
 "nbformat_minor": 5
}
